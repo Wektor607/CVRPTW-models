{
 "cells": [
  {
   "cell_type": "code",
   "execution_count": 3,
   "id": "00292a96",
   "metadata": {},
   "outputs": [],
   "source": [
    "import numpy as np\n",
    "import pandas as pd\n",
    "import seaborn as sns\n",
    "import matplotlib.pyplot as plt"
   ]
  },
  {
   "cell_type": "markdown",
   "id": "30cb2590",
   "metadata": {},
   "source": [
    "### Для парсинга лога, который выдает Gurobi"
   ]
  },
  {
   "cell_type": "code",
   "execution_count": 145,
   "id": "ba3e1189",
   "metadata": {},
   "outputs": [
    {
     "name": "stdout",
     "output_type": "stream",
     "text": [
      "Введите количество городов (20, 50, 100): \n",
      "20\n"
     ]
    }
   ],
   "source": [
    "infile = open('Gurobi_20.txt',  'r')\n",
    "outfile = open('Gurobi_20_CVRPTW_dist.txt',  'w')\n",
    "\n",
    "pst = ['-', 'best', 'continuous,', 'Mon','Tue', 'Wed', 'Thu', 'Fri', 'Sat', 'Sun','second', '']\n",
    "symbols = ['e+']\n",
    "copy = False\n",
    "print('Введите количество городов (20, 50, 100): ')\n",
    "k = int(input())\n",
    "for line in infile:\n",
    "    if 'Expl Unexpl |  Obj  Depth IntInf | Incumbent    BestBd   Gap | It/Node Time' in line:\n",
    "        copy = True\n",
    "    elif 'Cutting planes:' in line:\n",
    "        copy = False\n",
    "    elif copy:\n",
    "        content = line.split()\n",
    "        new_line = ''\n",
    "        if len(content) == 10:\n",
    "            if((content[5] not in pst) and (prev_content not in pst) and 'e+' not in content[5] and 'e+' not in prev_content):\n",
    "                if(float(content[5]) - float(prev_content) > 0.1):\n",
    "                    outfile.write('')\n",
    "                    \n",
    "            if(content[5] not in pst and (prev_content not in pst) and 'e+' not in content[5] and 'e+' not in prev_content):\n",
    "                new_line += content[5]\n",
    "                prev_content = content[5]\n",
    "        elif len(content) == 8:\n",
    "            if((content[3] not in pst) and (prev_content not in pst) and 'e+' not in content[3] and 'e+' not in prev_content):\n",
    "                if(float(content[3]) - float(prev_content) > 0.1):\n",
    "                    outfile.write('')\n",
    "\n",
    "            if(content[3] not in pst and (prev_content not in pst) and ('e+' not in content[3]) and ('e+' not in prev_content)):\n",
    "                new_line += content[3]\n",
    "                prev_content = content[3]\n",
    "        if len(content) != 0 and content[-1] != 'processors)' and '.' not in content[-1] and content[-1].isdigit() == False:\n",
    "            new_line += '\\t' + content[-1] \n",
    "            new_line = new_line[:-1] + '\\n'\n",
    "            if(new_line[0] != '\\t' and new_line[0] != ''):\n",
    "                outfile.write(new_line)\n",
    "            if(k == 20):\n",
    "                if(content[-1][:-1] == '300'):\n",
    "                    outfile.write('\\n')\n",
    "            elif(k == 50):\n",
    "                if(content[-1][:-1] == '1000'):\n",
    "                    outfile.write('\\n')\n",
    "            \n",
    "infile.close()\n",
    "outfile.close()"
   ]
  },
  {
   "cell_type": "markdown",
   "id": "a36715f3",
   "metadata": {},
   "source": [
    "### Отрисовка графиков"
   ]
  },
  {
   "cell_type": "code",
   "execution_count": 146,
   "id": "41e1505f",
   "metadata": {},
   "outputs": [
    {
     "data": {
      "image/png": "[encoded data removed]",
      "text/plain": [
       "<Figure size 432x288 with 1 Axes>"
      ]
     },
     "metadata": {},
     "output_type": "display_data"
    }
   ],
   "source": [
    "lst = [\n",
    "    \"Gurobi_20_CVRPTW_dist.txt\",\n",
    "#     \"Gurobi_50_CVRPTW_dist.txt\",\n",
    "#     \"Gurobi_100_CVRPTW_dist.txt\"\n",
    "]\n",
    "\n",
    "all_cost_batches = []\n",
    "for name in lst:\n",
    "    with open(name, 'r') as f:\n",
    "        file = f.readlines()\n",
    "    costs = []\n",
    "    times = []\n",
    "\n",
    "    cur_cost = []\n",
    "    cur_time = []\n",
    "\n",
    "    m = float('-inf')\n",
    "    for line in file:\n",
    "        if line == '\\n':\n",
    "            costs.append(cur_cost)\n",
    "            times.append(cur_time)\n",
    "\n",
    "            cur_cost = []\n",
    "            cur_time = []\n",
    "\n",
    "            continue\n",
    "\n",
    "        line = line.split('\\t')\n",
    "        cur_cost.append(float(line[0]))\n",
    "        cur_time.append(float(line[1][:-1]))\n",
    "\n",
    "        if cur_time[-1] > m:\n",
    "            m = cur_time[-1]\n",
    "    step = 1\n",
    "    m = math.ceil(m)\n",
    "\n",
    "    time_batched = [[0] * (m // step) for _ in range(len(times))]\n",
    "    cost_batched = [[float('inf')] * (m // step) for _ in range(len(costs))]\n",
    "\n",
    "\n",
    "\n",
    "    for num in range(len(costs)):\n",
    "        cur_time = times[num]\n",
    "        cur_cost = costs[num]\n",
    "\n",
    "        last_best = float('inf')\n",
    "\n",
    "        for n in range((m // step)):\n",
    "            if n >= len(cur_time):\n",
    "                time_batched[num][n] = time_batched[num][n-1]\n",
    "                cost_batched[num][n] = cost_batched[num][n-1]\n",
    "                continue\n",
    "\n",
    "            cost_batched[num][int(n // step)] = min(cost_batched[num][int(n // step)], cur_cost[n])\n",
    "    cost_batched = np.array(cost_batched)\n",
    "    plt.plot(cost_batched.mean(0))\n",
    "    \n",
    "plt.legend(['Gurobi', 'SA', '2Opt', '3Opt'])\n",
    "plt.xlabel('optimization time', fontsize=16)\n",
    "plt.ylabel('mean cost', fontsize=16)\n",
    "plt.title('20 points', fontsize=16)\n",
    "\n",
    "plt.show()"
   ]
  },
  {
   "cell_type": "code",
   "execution_count": null,
   "id": "629bc0b0",
   "metadata": {},
   "outputs": [],
   "source": [
    "import pandas as pd\n",
    "    import matplotlib.pyplot as plt\n",
    "    tour = lkh[1]\n",
    "\n",
    "    data = pd.read_csv('20/Example1.csv', sep='\\t')\n",
    "    xcoord = list(data['x_coord'])\n",
    "    ycoord = list(data['y_coord'])\n",
    "\n",
    "    plt.figure(figsize=(12,8))\n",
    "    plt.scatter(xcoord, ycoord, color=\"red\")\n",
    "\n",
    "    plt.scatter(xcoord[0], ycoord[0], color=\"black\", marker='D')\n",
    "    plt.annotate(\"Depo\", (xcoord[0]-1, ycoord[0]-5.5))\n",
    "\n",
    "    N = count_towns - 1\n",
    "    clients = [i for i in range(N+1) if i != 0]\n",
    "    for i in clients:\n",
    "        plt.annotate('${%d}$' % i, (xcoord[i]-1, ycoord[i]-5))\n",
    "\n",
    "    colors = [\"black\", \"blue\", \"red\", \"orange\", \"yellow\", \"grey\"]\n",
    "    i = 0\n",
    "    for r in tour:\n",
    "    #     print(r)\n",
    "        for t in range(len(r)-1):\n",
    "    #         print(r[t])\n",
    "            plt.plot([xcoord[r[t]], xcoord[r[t+1]]], [ycoord[r[t]], ycoord[r[t+1]]], color=colors[i],alpha=0.4)\n",
    "        plt.plot([xcoord[r[len(r)-1]], xcoord[r[0]]], [ycoord[r[len(r)-1]], ycoord[r[0]]],color=colors[i],alpha=0.4)\n",
    "        i += 1\n",
    "    \n",
    "    plt.savefig('LKH_TOUR.png')"
   ]
  }
 ],
 "metadata": {
  "kernelspec": {
   "display_name": "Python 3.10.6 64-bit",
   "language": "python",
   "name": "python3"
  },
  "language_info": {
   "codemirror_mode": {
    "name": "ipython",
    "version": 3
   },
   "file_extension": ".py",
   "mimetype": "text/x-python",
   "name": "python",
   "nbconvert_exporter": "python",
   "pygments_lexer": "ipython3",
   "version": "3.10.6"
  },
  "vscode": {
   "interpreter": {
    "hash": "369f2c481f4da34e4445cda3fffd2e751bd1c4d706f27375911949ba6bb62e1c"
   }
  }
 },
 "nbformat": 4,
 "nbformat_minor": 5
}
